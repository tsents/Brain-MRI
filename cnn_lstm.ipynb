{
 "cells": [
  {
   "cell_type": "code",
   "execution_count": 15,
   "metadata": {},
   "outputs": [
    {
     "name": "stdout",
     "output_type": "stream",
     "text": [
      "cpu\n",
      "[1. 4. 3. 2. 0.]\n"
     ]
    }
   ],
   "source": [
    "import torch\n",
    "from torchvision import datasets, transforms\n",
    "from torch.utils.data import DataLoader\n",
    "\n",
    "path = \"kaggle_3m\"\n",
    "device = 'cuda' if torch.cuda.is_available() else 'cpu'\n",
    "device = 'cpu'\n",
    "print(device)\n",
    "\n",
    "import os\n",
    "import pandas as pd\n",
    "from PIL import Image\n",
    "from torchvision.transforms import ToTensor\n",
    "from torch.utils.data import Dataset\n",
    "\n",
    "class ImageFolderDataset(Dataset):\n",
    "    def __init__(self, root_dir, data_frame):\n",
    "        self.root_dir = root_dir\n",
    "        self.labels = data_frame\n",
    "        self.labels.dropna(subset=['tumor_location'], inplace=True)\n",
    "        self.transform = ToTensor()\n",
    "\n",
    "    def __len__(self):\n",
    "        return len(self.labels)\n",
    "\n",
    "    def __getitem__(self, idx):\n",
    "        if torch.is_tensor(idx):\n",
    "            idx = idx.tolist()\n",
    "\n",
    "        label = self.labels.loc[idx, 'tumor_location']\n",
    "        folder_name = self.labels.iloc[idx, 0]\n",
    "\n",
    "        images = []\n",
    "\n",
    "        for dir_name in os.listdir(self.root_dir):\n",
    "            if dir_name.startswith(folder_name):\n",
    "                img_folder = os.path.join(self.root_dir, dir_name)\n",
    "\n",
    "                for img_name in sorted(os.listdir(img_folder)):\n",
    "                    if not img_name.endswith('mask.tif'):\n",
    "                        img_path = os.path.join(img_folder, img_name)\n",
    "\n",
    "                        image = Image.open(img_path)\n",
    "                        image = self.transform(image)\n",
    "                        images.append(image)\n",
    "\n",
    "        images = torch.stack(images)\n",
    "\n",
    "        return images.float().to(device), torch.tensor([label]).long().to(device)\n",
    "\n",
    "\n",
    "\n",
    "df = pd.read_csv('kaggle_3m/data.csv')\n",
    "df.dropna(subset=['tumor_location'], inplace=True)\n",
    "class_mapping = {1: 0, 2: 1, 4: 2, 5: 3, 6: 4}\n",
    "df = df.replace({'tumor_location' : class_mapping})\n",
    "print(df['tumor_location'].unique())\n",
    "\n",
    "dataset = ImageFolderDataset(root_dir='kaggle_3m', data_frame = df)\n",
    "dataloader = DataLoader(dataset, batch_size=1, shuffle=True)\n"
   ]
  },
  {
   "cell_type": "code",
   "execution_count": null,
   "metadata": {},
   "outputs": [],
   "source": []
  },
  {
   "cell_type": "code",
   "execution_count": 16,
   "metadata": {},
   "outputs": [
    {
     "name": "stdout",
     "output_type": "stream",
     "text": [
      "CombinedModel(\n",
      "  (cnn): CNN(\n",
      "    (conv1): Conv2d(3, 5, kernel_size=(3, 3), stride=(1, 1), padding=(1, 1))\n",
      "    (pool): MaxPool2d(kernel_size=2, stride=2, padding=0, dilation=1, ceil_mode=False)\n",
      "    (conv2): Conv2d(5, 6, kernel_size=(3, 3), stride=(1, 1), padding=(1, 1))\n",
      "    (fc): Linear(in_features=24576, out_features=256, bias=True)\n",
      "  )\n",
      "  (lstm): LSTM(\n",
      "    (lstm): LSTM(256, 128, batch_first=True)\n",
      "    (fc1): Linear(in_features=128, out_features=5, bias=True)\n",
      "  )\n",
      ")\n"
     ]
    }
   ],
   "source": [
    "import torch\n",
    "import torch.nn as nn\n",
    "import torch.nn.functional as F\n",
    "\n",
    "class CNN(nn.Module):\n",
    "    def __init__(self):\n",
    "        super(CNN, self).__init__()\n",
    "        self.conv1 = nn.Conv2d(3, 5, kernel_size=3, stride=1, padding=1)\n",
    "        self.pool = nn.MaxPool2d(2, 2)\n",
    "        self.conv2 = nn.Conv2d(5, 6, kernel_size=3, stride=1, padding=1)\n",
    "        self.fc = nn.Linear(64*64*6, 256)\n",
    "\n",
    "    def forward(self, x):\n",
    "        x = self.pool(F.relu(self.conv1(x)))\n",
    "        x = self.pool(F.relu(self.conv2(x)))\n",
    "        x = x.view(x.size(0), -1)\n",
    "        x = self.fc(x)\n",
    "        return x\n",
    "\n",
    "class LSTM(nn.Module):\n",
    "    def __init__(self):\n",
    "        super(LSTM, self).__init__()\n",
    "        self.lstm = nn.LSTM(256, 128, batch_first=True)\n",
    "        self.fc1 = nn.Linear(128, 5)\n",
    "\n",
    "    def forward(self, x):\n",
    "        x, _ = self.lstm(x)\n",
    "        x = self.fc1(x[:, -1, :])\n",
    "        return x\n",
    "\n",
    "class CombinedModel(nn.Module):\n",
    "    def __init__(self):\n",
    "        super(CombinedModel, self).__init__()\n",
    "        self.cnn = CNN()\n",
    "        self.lstm = LSTM()\n",
    "\n",
    "    def forward(self, x):\n",
    "        batch_size, timesteps, C, H, W = x.size()\n",
    "        x = x.view(timesteps, C, H, W)\n",
    "        x = self.cnn(x)\n",
    "        x = x.view(batch_size, timesteps, -1)\n",
    "        x = self.lstm(x)\n",
    "        return x\n",
    "\n",
    "model = CombinedModel().to(device)\n",
    "\n",
    "print(model)\n",
    "\n"
   ]
  },
  {
   "cell_type": "code",
   "execution_count": 17,
   "metadata": {},
   "outputs": [
    {
     "name": "stdout",
     "output_type": "stream",
     "text": [
      "Epoch 1/3, Loss: 0.3229725956916809, Accuracy: 52.87356321839081%\n",
      "Epoch 2/3, Loss: 1.2681533098220825, Accuracy: 58.62068965517241%\n",
      "Epoch 3/3, Loss: 0.5151243209838867, Accuracy: 58.62068965517241%\n",
      "Training complete.\n"
     ]
    }
   ],
   "source": [
    "import torch.optim as optim\n",
    "\n",
    "train_size = int(0.8 * len(dataset))\n",
    "val_size = len(dataset) - train_size\n",
    "train_dataset, val_dataset = torch.utils.data.random_split(dataset, [train_size, val_size])\n",
    "\n",
    "train_loader = torch.utils.data.DataLoader(train_dataset, batch_size=1, shuffle=True)\n",
    "val_loader = torch.utils.data.DataLoader(val_dataset, batch_size=1, shuffle=True)\n",
    "\n",
    "criterion = torch.nn.CrossEntropyLoss()\n",
    "optimizer = optim.Adam(model.parameters(), lr=0.001)\n",
    "\n",
    "num_epochs = 3\n",
    "for epoch in range(num_epochs):\n",
    "    correct = 0\n",
    "    total = 0\n",
    "    for i, (inputs, labels) in enumerate(train_loader):\n",
    "\n",
    "        optimizer.zero_grad()\n",
    "        outputs = model(inputs)\n",
    "        loss = criterion(outputs, labels.squeeze(0))\n",
    "\n",
    "        # Calculate accuracy\n",
    "        _, predicted = torch.max(outputs.data, 1)\n",
    "        total += labels.size(0)\n",
    "        correct += (predicted == labels).sum().item()\n",
    "\n",
    "        loss.backward()\n",
    "        optimizer.step()\n",
    "\n",
    "        torch.cuda.empty_cache()\n",
    "\n",
    "    accuracy = 100 * correct / total\n",
    "    print(f'Epoch {epoch+1}/{num_epochs}, Loss: {loss.item()}, Accuracy: {accuracy}%')\n",
    "\n",
    "print(\"Training complete.\")\n",
    "\n"
   ]
  },
  {
   "cell_type": "code",
   "execution_count": 18,
   "metadata": {},
   "outputs": [
    {
     "name": "stdout",
     "output_type": "stream",
     "text": [
      "Accuracy of the model on the validation data: 54.54545454545455%\n"
     ]
    }
   ],
   "source": [
    "correct = 0\n",
    "total = 0\n",
    "\n",
    "model.eval()\n",
    "\n",
    "for inputs, labels in val_loader:\n",
    "    outputs = model(inputs)\n",
    "    _, predicted = torch.max(outputs.data, 1)\n",
    "    total += labels.size(0)\n",
    "    correct += (predicted == labels).sum().item()\n",
    "\n",
    "accuracy = 100 * correct / total\n",
    "print(f'Accuracy of the model on the validation data: {accuracy}%')"
   ]
  }
 ],
 "metadata": {
  "kernelspec": {
   "display_name": "Python 3",
   "language": "python",
   "name": "python3"
  },
  "language_info": {
   "codemirror_mode": {
    "name": "ipython",
    "version": 3
   },
   "file_extension": ".py",
   "mimetype": "text/x-python",
   "name": "python",
   "nbconvert_exporter": "python",
   "pygments_lexer": "ipython3",
   "version": "3.8.10"
  }
 },
 "nbformat": 4,
 "nbformat_minor": 2
}
